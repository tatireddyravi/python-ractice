{
 "cells": [
  {
   "cell_type": "markdown",
   "id": "6e64932d",
   "metadata": {},
   "source": [
    "## python string\n"
   ]
  },
  {
   "cell_type": "code",
   "execution_count": 1,
   "id": "3f5c1ef5",
   "metadata": {},
   "outputs": [],
   "source": [
    "s1='TatiReddy Ravi'"
   ]
  },
  {
   "cell_type": "code",
   "execution_count": 2,
   "id": "8da09cfe",
   "metadata": {},
   "outputs": [],
   "source": [
    "s2=\"tatireddy ravi\""
   ]
  },
  {
   "cell_type": "code",
   "execution_count": 3,
   "id": "8a850377",
   "metadata": {},
   "outputs": [
    {
     "data": {
      "text/plain": [
       "'Tati'"
      ]
     },
     "execution_count": 3,
     "metadata": {},
     "output_type": "execute_result"
    }
   ],
   "source": [
    "s1[0:4]"
   ]
  },
  {
   "cell_type": "code",
   "execution_count": 4,
   "id": "1600fcbb",
   "metadata": {},
   "outputs": [
    {
     "data": {
      "text/plain": [
       "'TatiReddy'"
      ]
     },
     "execution_count": 4,
     "metadata": {},
     "output_type": "execute_result"
    }
   ],
   "source": [
    "s1[:9]"
   ]
  },
  {
   "cell_type": "code",
   "execution_count": 5,
   "id": "292c9a19",
   "metadata": {},
   "outputs": [
    {
     "data": {
      "text/plain": [
       "'avi'"
      ]
     },
     "execution_count": 5,
     "metadata": {},
     "output_type": "execute_result"
    }
   ],
   "source": [
    "s1[11:14]"
   ]
  },
  {
   "cell_type": "code",
   "execution_count": 6,
   "id": "154cf1b8",
   "metadata": {},
   "outputs": [
    {
     "data": {
      "text/plain": [
       "'Ravi'"
      ]
     },
     "execution_count": 6,
     "metadata": {},
     "output_type": "execute_result"
    }
   ],
   "source": [
    "s1[10:14]"
   ]
  },
  {
   "cell_type": "code",
   "execution_count": 7,
   "id": "4d7edaaf",
   "metadata": {},
   "outputs": [
    {
     "data": {
      "text/plain": [
       "'TatiReddy Ravi'"
      ]
     },
     "execution_count": 7,
     "metadata": {},
     "output_type": "execute_result"
    }
   ],
   "source": [
    "s1[:]"
   ]
  },
  {
   "cell_type": "code",
   "execution_count": 8,
   "id": "d5e0d537",
   "metadata": {},
   "outputs": [
    {
     "data": {
      "text/plain": [
       "'i'"
      ]
     },
     "execution_count": 8,
     "metadata": {},
     "output_type": "execute_result"
    }
   ],
   "source": [
    "s1[-1:]"
   ]
  },
  {
   "cell_type": "code",
   "execution_count": 12,
   "id": "a1dc1978",
   "metadata": {},
   "outputs": [
    {
     "data": {
      "text/plain": [
       "'TatiReddy Rav'"
      ]
     },
     "execution_count": 12,
     "metadata": {},
     "output_type": "execute_result"
    }
   ],
   "source": [
    "s1[:-1]"
   ]
  },
  {
   "cell_type": "code",
   "execution_count": 13,
   "id": "098391af",
   "metadata": {},
   "outputs": [
    {
     "data": {
      "text/plain": [
       "''"
      ]
     },
     "execution_count": 13,
     "metadata": {},
     "output_type": "execute_result"
    }
   ],
   "source": [
    "s1[4:1]"
   ]
  },
  {
   "cell_type": "code",
   "execution_count": 14,
   "id": "3f3d68a6",
   "metadata": {},
   "outputs": [
    {
     "data": {
      "text/plain": [
       "'y Rav'"
      ]
     },
     "execution_count": 14,
     "metadata": {},
     "output_type": "execute_result"
    }
   ],
   "source": [
    "s1[-6:-1]"
   ]
  },
  {
   "cell_type": "code",
   "execution_count": 15,
   "id": "4e7b31da",
   "metadata": {},
   "outputs": [
    {
     "data": {
      "text/plain": [
       "''"
      ]
     },
     "execution_count": 15,
     "metadata": {},
     "output_type": "execute_result"
    }
   ],
   "source": [
    "s1[-1:-5]"
   ]
  },
  {
   "cell_type": "code",
   "execution_count": 22,
   "id": "92af545c",
   "metadata": {},
   "outputs": [
    {
     "data": {
      "text/plain": [
       "'ivaR yddeRitaT'"
      ]
     },
     "execution_count": 22,
     "metadata": {},
     "output_type": "execute_result"
    }
   ],
   "source": [
    "s1[-1::-1]"
   ]
  },
  {
   "cell_type": "code",
   "execution_count": 18,
   "id": "dca431d4",
   "metadata": {},
   "outputs": [
    {
     "data": {
      "text/plain": [
       "'ivar ydderit'"
      ]
     },
     "execution_count": 18,
     "metadata": {},
     "output_type": "execute_result"
    }
   ],
   "source": [
    "s2[13:1:-1]"
   ]
  },
  {
   "cell_type": "code",
   "execution_count": 19,
   "id": "c9772315",
   "metadata": {},
   "outputs": [
    {
     "data": {
      "text/plain": [
       "'ivar ydderitat'"
      ]
     },
     "execution_count": 19,
     "metadata": {},
     "output_type": "execute_result"
    }
   ],
   "source": [
    "s2[-1::-1]"
   ]
  },
  {
   "cell_type": "code",
   "execution_count": 20,
   "id": "d4f8f943",
   "metadata": {},
   "outputs": [
    {
     "data": {
      "text/plain": [
       "'ia deia'"
      ]
     },
     "execution_count": 20,
     "metadata": {},
     "output_type": "execute_result"
    }
   ],
   "source": [
    "s2[::-2]"
   ]
  },
  {
   "cell_type": "code",
   "execution_count": 21,
   "id": "210a9b15",
   "metadata": {},
   "outputs": [
    {
     "data": {
      "text/plain": [
       "'ttrdyrv'"
      ]
     },
     "execution_count": 21,
     "metadata": {},
     "output_type": "execute_result"
    }
   ],
   "source": [
    "s2[::2]"
   ]
  },
  {
   "cell_type": "code",
   "execution_count": 23,
   "id": "087776f7",
   "metadata": {},
   "outputs": [
    {
     "data": {
      "text/plain": [
       "'TatiReddy Ravi'"
      ]
     },
     "execution_count": 23,
     "metadata": {},
     "output_type": "execute_result"
    }
   ],
   "source": [
    "s1"
   ]
  },
  {
   "cell_type": "code",
   "execution_count": 24,
   "id": "8f01d22f",
   "metadata": {},
   "outputs": [
    {
     "data": {
      "text/plain": [
       "'tatireddy ravi'"
      ]
     },
     "execution_count": 24,
     "metadata": {},
     "output_type": "execute_result"
    }
   ],
   "source": [
    "s2"
   ]
  },
  {
   "cell_type": "code",
   "execution_count": 25,
   "id": "e019ffaf",
   "metadata": {},
   "outputs": [
    {
     "data": {
      "text/plain": [
       "'Tatireddy ravi'"
      ]
     },
     "execution_count": 25,
     "metadata": {},
     "output_type": "execute_result"
    }
   ],
   "source": [
    "s2.capitalize()"
   ]
  },
  {
   "cell_type": "code",
   "execution_count": 26,
   "id": "a46549d0",
   "metadata": {},
   "outputs": [
    {
     "data": {
      "text/plain": [
       "'tatireddy ravi'"
      ]
     },
     "execution_count": 26,
     "metadata": {},
     "output_type": "execute_result"
    }
   ],
   "source": [
    "s1.casefold()"
   ]
  },
  {
   "cell_type": "code",
   "execution_count": 31,
   "id": "7c4949cc",
   "metadata": {},
   "outputs": [
    {
     "data": {
      "text/plain": [
       "'111TatiReddy Ravi111'"
      ]
     },
     "execution_count": 31,
     "metadata": {},
     "output_type": "execute_result"
    }
   ],
   "source": [
    "s1.center(20,'1')"
   ]
  },
  {
   "cell_type": "code",
   "execution_count": 32,
   "id": "2945a98f",
   "metadata": {},
   "outputs": [],
   "source": [
    "s='Ravi joined in ineuron to learn full stack datascience'"
   ]
  },
  {
   "cell_type": "code",
   "execution_count": 35,
   "id": "9ae06704",
   "metadata": {},
   "outputs": [
    {
     "name": "stdout",
     "output_type": "stream",
     "text": [
      "number of occurences of a: 5\n"
     ]
    }
   ],
   "source": [
    "print('number of occurences of a:',s.count('a'))"
   ]
  },
  {
   "cell_type": "code",
   "execution_count": 36,
   "id": "2455f4a3",
   "metadata": {},
   "outputs": [
    {
     "data": {
      "text/plain": [
       "True"
      ]
     },
     "execution_count": 36,
     "metadata": {},
     "output_type": "execute_result"
    }
   ],
   "source": [
    "s.endswith('e')"
   ]
  },
  {
   "cell_type": "code",
   "execution_count": 37,
   "id": "6231c31a",
   "metadata": {},
   "outputs": [
    {
     "data": {
      "text/plain": [
       "False"
      ]
     },
     "execution_count": 37,
     "metadata": {},
     "output_type": "execute_result"
    }
   ],
   "source": [
    "s.endswith('d')"
   ]
  },
  {
   "cell_type": "code",
   "execution_count": 38,
   "id": "7f4bc152",
   "metadata": {},
   "outputs": [
    {
     "name": "stdout",
     "output_type": "stream",
     "text": [
      "H       e       l       l       o\n"
     ]
    }
   ],
   "source": [
    "s=\"H\\te\\tl\\tl\\to\"\n",
    "print(s.expandtabs())\n"
   ]
  },
  {
   "cell_type": "code",
   "execution_count": 39,
   "id": "4b4c0ae7",
   "metadata": {},
   "outputs": [
    {
     "name": "stdout",
     "output_type": "stream",
     "text": [
      "H e l l o\n"
     ]
    }
   ],
   "source": [
    "s=\"H\\te\\tl\\tl\\to\"\n",
    "print(s.expandtabs(2))\n"
   ]
  },
  {
   "cell_type": "code",
   "execution_count": 40,
   "id": "ef73635e",
   "metadata": {},
   "outputs": [
    {
     "name": "stdout",
     "output_type": "stream",
     "text": [
      "H   e   l   l   o\n"
     ]
    }
   ],
   "source": [
    "s=\"H\\te\\tl\\tl\\to\"\n",
    "print(s.expandtabs(4))\n"
   ]
  },
  {
   "cell_type": "code",
   "execution_count": 41,
   "id": "09e00678",
   "metadata": {},
   "outputs": [
    {
     "name": "stdout",
     "output_type": "stream",
     "text": [
      "H         e         l         l         o\n"
     ]
    }
   ],
   "source": [
    "s=\"H\\te\\tl\\tl\\to\"\n",
    "print(s.expandtabs(10))\n"
   ]
  },
  {
   "cell_type": "code",
   "execution_count": 42,
   "id": "aebdc751",
   "metadata": {},
   "outputs": [],
   "source": [
    "s=\"Tatireddy ravi\""
   ]
  },
  {
   "cell_type": "code",
   "execution_count": 43,
   "id": "147744ce",
   "metadata": {},
   "outputs": [
    {
     "data": {
      "text/plain": [
       "5"
      ]
     },
     "execution_count": 43,
     "metadata": {},
     "output_type": "execute_result"
    }
   ],
   "source": [
    "s.find('e')"
   ]
  },
  {
   "cell_type": "code",
   "execution_count": 45,
   "id": "beeda7ec",
   "metadata": {},
   "outputs": [
    {
     "data": {
      "text/plain": [
       "3"
      ]
     },
     "execution_count": 45,
     "metadata": {},
     "output_type": "execute_result"
    }
   ],
   "source": [
    "s.find('i')"
   ]
  },
  {
   "cell_type": "code",
   "execution_count": 46,
   "id": "43748ede",
   "metadata": {},
   "outputs": [
    {
     "data": {
      "text/plain": [
       "-1"
      ]
     },
     "execution_count": 46,
     "metadata": {},
     "output_type": "execute_result"
    }
   ],
   "source": [
    "s.find('z')"
   ]
  },
  {
   "cell_type": "code",
   "execution_count": 47,
   "id": "7d5a3728",
   "metadata": {},
   "outputs": [
    {
     "name": "stdout",
     "output_type": "stream",
     "text": [
      "my name is Ravi,I'm 30\n"
     ]
    }
   ],
   "source": [
    "s=\"my name is {fname},I'm {age}\"\n",
    "print(s.format(fname='Ravi',age=30))\n"
   ]
  },
  {
   "cell_type": "code",
   "execution_count": 48,
   "id": "4fe84f8e",
   "metadata": {},
   "outputs": [
    {
     "name": "stdout",
     "output_type": "stream",
     "text": [
      "my name is Ravi,I'm 30\n"
     ]
    }
   ],
   "source": [
    "s=\"my name is {0},I'm {1}\"\n",
    "print(s.format('Ravi',30))\n"
   ]
  },
  {
   "cell_type": "code",
   "execution_count": 49,
   "id": "79365037",
   "metadata": {},
   "outputs": [],
   "source": [
    "s=\"TatiReddy Ravi\""
   ]
  },
  {
   "cell_type": "code",
   "execution_count": 50,
   "id": "454eaeed",
   "metadata": {},
   "outputs": [
    {
     "data": {
      "text/plain": [
       "1"
      ]
     },
     "execution_count": 50,
     "metadata": {},
     "output_type": "execute_result"
    }
   ],
   "source": [
    "s.index('a')"
   ]
  },
  {
   "cell_type": "code",
   "execution_count": 51,
   "id": "3a7543a2",
   "metadata": {},
   "outputs": [
    {
     "data": {
      "text/plain": [
       "11"
      ]
     },
     "execution_count": 51,
     "metadata": {},
     "output_type": "execute_result"
    }
   ],
   "source": [
    "s.index('a',2,len(s))"
   ]
  },
  {
   "cell_type": "code",
   "execution_count": 52,
   "id": "6b20c38c",
   "metadata": {},
   "outputs": [
    {
     "data": {
      "text/plain": [
       "-1"
      ]
     },
     "execution_count": 52,
     "metadata": {},
     "output_type": "execute_result"
    }
   ],
   "source": [
    "s.find('q')"
   ]
  },
  {
   "cell_type": "code",
   "execution_count": 53,
   "id": "1ca434d8",
   "metadata": {},
   "outputs": [
    {
     "ename": "ValueError",
     "evalue": "substring not found",
     "output_type": "error",
     "traceback": [
      "\u001b[1;31m---------------------------------------------------------------------------\u001b[0m",
      "\u001b[1;31mValueError\u001b[0m                                Traceback (most recent call last)",
      "\u001b[1;32m<ipython-input-53-443fc90bf321>\u001b[0m in \u001b[0;36m<module>\u001b[1;34m\u001b[0m\n\u001b[1;32m----> 1\u001b[1;33m \u001b[0ms\u001b[0m\u001b[1;33m.\u001b[0m\u001b[0mindex\u001b[0m\u001b[1;33m(\u001b[0m\u001b[1;34m'q'\u001b[0m\u001b[1;33m)\u001b[0m\u001b[1;33m\u001b[0m\u001b[1;33m\u001b[0m\u001b[0m\n\u001b[0m",
      "\u001b[1;31mValueError\u001b[0m: substring not found"
     ]
    }
   ],
   "source": [
    "s.index('q')"
   ]
  },
  {
   "cell_type": "code",
   "execution_count": 54,
   "id": "d0e1a0f6",
   "metadata": {},
   "outputs": [],
   "source": [
    "s=\"tatireddy\""
   ]
  },
  {
   "cell_type": "code",
   "execution_count": 55,
   "id": "c6d98b9e",
   "metadata": {},
   "outputs": [
    {
     "data": {
      "text/plain": [
       "True"
      ]
     },
     "execution_count": 55,
     "metadata": {},
     "output_type": "execute_result"
    }
   ],
   "source": [
    "s.isalpha()"
   ]
  },
  {
   "cell_type": "code",
   "execution_count": 59,
   "id": "deb7dba6",
   "metadata": {},
   "outputs": [],
   "source": [
    "s=\"21254\""
   ]
  },
  {
   "cell_type": "code",
   "execution_count": 60,
   "id": "83aa4f00",
   "metadata": {},
   "outputs": [
    {
     "data": {
      "text/plain": [
       "True"
      ]
     },
     "execution_count": 60,
     "metadata": {},
     "output_type": "execute_result"
    }
   ],
   "source": [
    "s.isnumeric()"
   ]
  },
  {
   "cell_type": "code",
   "execution_count": 63,
   "id": "ad8a1216",
   "metadata": {},
   "outputs": [],
   "source": [
    "s=\"ravi123\""
   ]
  },
  {
   "cell_type": "code",
   "execution_count": 64,
   "id": "68c30b7b",
   "metadata": {},
   "outputs": [
    {
     "data": {
      "text/plain": [
       "False"
      ]
     },
     "execution_count": 64,
     "metadata": {},
     "output_type": "execute_result"
    }
   ],
   "source": [
    "s.isalnum()"
   ]
  },
  {
   "cell_type": "code",
   "execution_count": 65,
   "id": "21737719",
   "metadata": {},
   "outputs": [
    {
     "data": {
      "text/plain": [
       "True"
      ]
     },
     "execution_count": 65,
     "metadata": {},
     "output_type": "execute_result"
    }
   ],
   "source": [
    "s.isascii()"
   ]
  },
  {
   "cell_type": "code",
   "execution_count": 66,
   "id": "a7533932",
   "metadata": {},
   "outputs": [
    {
     "data": {
      "text/plain": [
       "False"
      ]
     },
     "execution_count": 66,
     "metadata": {},
     "output_type": "execute_result"
    }
   ],
   "source": [
    "s.isdigit()"
   ]
  },
  {
   "cell_type": "code",
   "execution_count": 67,
   "id": "13603466",
   "metadata": {},
   "outputs": [
    {
     "data": {
      "text/plain": [
       "False"
      ]
     },
     "execution_count": 67,
     "metadata": {},
     "output_type": "execute_result"
    }
   ],
   "source": [
    "s.isdecimal()"
   ]
  },
  {
   "cell_type": "code",
   "execution_count": 68,
   "id": "8faad0fb",
   "metadata": {},
   "outputs": [
    {
     "data": {
      "text/plain": [
       "True"
      ]
     },
     "execution_count": 68,
     "metadata": {},
     "output_type": "execute_result"
    }
   ],
   "source": [
    "s.islower()"
   ]
  },
  {
   "cell_type": "code",
   "execution_count": 69,
   "id": "33081b65",
   "metadata": {},
   "outputs": [
    {
     "data": {
      "text/plain": [
       "False"
      ]
     },
     "execution_count": 69,
     "metadata": {},
     "output_type": "execute_result"
    }
   ],
   "source": [
    "s.isspace()"
   ]
  },
  {
   "cell_type": "code",
   "execution_count": 76,
   "id": "7bd03f59",
   "metadata": {},
   "outputs": [],
   "source": [
    "s=''"
   ]
  },
  {
   "cell_type": "code",
   "execution_count": 77,
   "id": "cc7b0a0b",
   "metadata": {},
   "outputs": [
    {
     "data": {
      "text/plain": [
       "False"
      ]
     },
     "execution_count": 77,
     "metadata": {},
     "output_type": "execute_result"
    }
   ],
   "source": [
    "s.isspace()"
   ]
  },
  {
   "cell_type": "code",
   "execution_count": 78,
   "id": "39dac0cb",
   "metadata": {},
   "outputs": [],
   "source": [
    "s=' '"
   ]
  },
  {
   "cell_type": "code",
   "execution_count": 79,
   "id": "be73312a",
   "metadata": {},
   "outputs": [
    {
     "data": {
      "text/plain": [
       "True"
      ]
     },
     "execution_count": 79,
     "metadata": {},
     "output_type": "execute_result"
    }
   ],
   "source": [
    "s.isspace()"
   ]
  },
  {
   "cell_type": "code",
   "execution_count": 80,
   "id": "76969068",
   "metadata": {},
   "outputs": [
    {
     "data": {
      "text/plain": [
       "False"
      ]
     },
     "execution_count": 80,
     "metadata": {},
     "output_type": "execute_result"
    }
   ],
   "source": [
    "s.istitle()"
   ]
  },
  {
   "cell_type": "code",
   "execution_count": 81,
   "id": "5b4a593a",
   "metadata": {},
   "outputs": [],
   "source": [
    "s=\"Tatireddy Eshwar Prasadh Is Verry Cute Boy\""
   ]
  },
  {
   "cell_type": "code",
   "execution_count": 82,
   "id": "7d5893f5",
   "metadata": {},
   "outputs": [
    {
     "data": {
      "text/plain": [
       "True"
      ]
     },
     "execution_count": 82,
     "metadata": {},
     "output_type": "execute_result"
    }
   ],
   "source": [
    "s.istitle()"
   ]
  },
  {
   "cell_type": "code",
   "execution_count": 83,
   "id": "2be2cc7c",
   "metadata": {},
   "outputs": [
    {
     "data": {
      "text/plain": [
       "False"
      ]
     },
     "execution_count": 83,
     "metadata": {},
     "output_type": "execute_result"
    }
   ],
   "source": [
    "s.isupper()"
   ]
  },
  {
   "cell_type": "code",
   "execution_count": 88,
   "id": "4762b563",
   "metadata": {},
   "outputs": [
    {
     "data": {
      "text/plain": [
       "'00000000Tatireddy Eshwar Prasadh Is Verry Cute Boy'"
      ]
     },
     "execution_count": 88,
     "metadata": {},
     "output_type": "execute_result"
    }
   ],
   "source": [
    "s.zfill(50)"
   ]
  },
  {
   "cell_type": "code",
   "execution_count": 89,
   "id": "838978a5",
   "metadata": {},
   "outputs": [
    {
     "data": {
      "text/plain": [
       "'TATIREDDY ESHWAR PRASADH IS VERRY CUTE BOY'"
      ]
     },
     "execution_count": 89,
     "metadata": {},
     "output_type": "execute_result"
    }
   ],
   "source": [
    "s.upper()"
   ]
  },
  {
   "cell_type": "code",
   "execution_count": 90,
   "id": "5eeac1f4",
   "metadata": {},
   "outputs": [
    {
     "data": {
      "text/plain": [
       "'tatireddy eshwar prasadh is verry cute boy'"
      ]
     },
     "execution_count": 90,
     "metadata": {},
     "output_type": "execute_result"
    }
   ],
   "source": [
    "s.lower()"
   ]
  },
  {
   "cell_type": "code",
   "execution_count": 96,
   "id": "f9c07f53",
   "metadata": {},
   "outputs": [
    {
     "data": {
      "text/plain": [
       "'Tatireddy Eshwar Prasadh Is Verry Sute Boy'"
      ]
     },
     "execution_count": 96,
     "metadata": {},
     "output_type": "execute_result"
    }
   ],
   "source": [
    "mytable=s.maketrans('C','S')\n",
    "s.translate(mytable)"
   ]
  },
  {
   "cell_type": "code",
   "execution_count": 97,
   "id": "afe055bc",
   "metadata": {},
   "outputs": [
    {
     "data": {
      "text/plain": [
       "'Taoirlddy Eshwar Prasadh Is Vlrry Cool Boy'"
      ]
     },
     "execution_count": 97,
     "metadata": {},
     "output_type": "execute_result"
    }
   ],
   "source": [
    "x='Sute'\n",
    "y='Cool'\n",
    "mytable=s.maketrans(x,y)\n",
    "s.translate(mytable)"
   ]
  },
  {
   "cell_type": "code",
   "execution_count": 98,
   "id": "d93de100",
   "metadata": {},
   "outputs": [
    {
     "data": {
      "text/plain": [
       "'Tatireddy Eshwar Prasadh Is Verry Cute Boy'"
      ]
     },
     "execution_count": 98,
     "metadata": {},
     "output_type": "execute_result"
    }
   ],
   "source": [
    "s"
   ]
  },
  {
   "cell_type": "code",
   "execution_count": 99,
   "id": "5084b6a5",
   "metadata": {},
   "outputs": [
    {
     "data": {
      "text/plain": [
       "'tATIREDDY eSHWAR pRASADH iS vERRY cUTE bOY'"
      ]
     },
     "execution_count": 99,
     "metadata": {},
     "output_type": "execute_result"
    }
   ],
   "source": [
    "s.swapcase()"
   ]
  },
  {
   "cell_type": "code",
   "execution_count": 100,
   "id": "ded8cc90",
   "metadata": {},
   "outputs": [
    {
     "data": {
      "text/plain": [
       "'tATIREDDY eSHWAR pRASADH iS vERRY cUTE bOY'"
      ]
     },
     "execution_count": 100,
     "metadata": {},
     "output_type": "execute_result"
    }
   ],
   "source": [
    "s.swapcase()"
   ]
  },
  {
   "cell_type": "code",
   "execution_count": 101,
   "id": "f7a70cd9",
   "metadata": {},
   "outputs": [
    {
     "data": {
      "text/plain": [
       "['Tatireddy', 'Eshwar', 'Prasadh', 'Is', 'Verry', 'Cute', 'Boy']"
      ]
     },
     "execution_count": 101,
     "metadata": {},
     "output_type": "execute_result"
    }
   ],
   "source": [
    "s.split()"
   ]
  },
  {
   "cell_type": "code",
   "execution_count": 102,
   "id": "e073f922",
   "metadata": {},
   "outputs": [
    {
     "data": {
      "text/plain": [
       "'Tatireddy Eshwar Prasadh Is Verry Cute Boy'"
      ]
     },
     "execution_count": 102,
     "metadata": {},
     "output_type": "execute_result"
    }
   ],
   "source": [
    "s.strip()"
   ]
  },
  {
   "cell_type": "code",
   "execution_count": null,
   "id": "9fcf97ab",
   "metadata": {},
   "outputs": [],
   "source": []
  }
 ],
 "metadata": {
  "kernelspec": {
   "display_name": "Python 3",
   "language": "python",
   "name": "python3"
  },
  "language_info": {
   "codemirror_mode": {
    "name": "ipython",
    "version": 3
   },
   "file_extension": ".py",
   "mimetype": "text/x-python",
   "name": "python",
   "nbconvert_exporter": "python",
   "pygments_lexer": "ipython3",
   "version": "3.8.8"
  }
 },
 "nbformat": 4,
 "nbformat_minor": 5
}
